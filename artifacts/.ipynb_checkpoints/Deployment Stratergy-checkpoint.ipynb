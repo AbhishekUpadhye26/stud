{
 "cells": [
  {
   "cell_type": "raw",
   "id": "e1958a01",
   "metadata": {},
   "source": [
    "    Environement >> Dependencies\n",
    "    \n",
    "    If our project is built in python 2.5 we cannot use python 3.5 because it creates version conflict\n",
    "    \n",
    "    for this we use conda environment to create our own environment and install all the required libraries in it.\n",
    "    \n",
    "    "
   ]
  },
  {
   "cell_type": "code",
   "execution_count": null,
   "id": "a06e38d5",
   "metadata": {},
   "outputs": [],
   "source": [
    " END TO END PROJECT ie START TO END PROJECT\n",
    "    \n",
    "    Step1: Problem Statement\n",
    "    Step2: Gather Data\n",
    "        Step 2.1: Create Conda Environment\n",
    "        Step 2.2: Git Repo\n",
    "    Step3 to Step7 Follow as it is.\n",
    "    \n",
    "    Build model with 90-95% accuracy on testing dataset\n",
    "    \n",
    "    \n",
    "    Step7.1 :Push the changes in master/main branch[Final project ready for deployment]\n",
    "    Step 8: Deployement\n",
    "        Step8.1: Create cloud instance[Cloud System]\n",
    "        Step8.2: Install python and other dependencies\n",
    "        Step8.3: Run App\n",
    "    \n",
    "    \n",
    "    GIT is distributor version control system"
   ]
  },
  {
   "cell_type": "code",
   "execution_count": null,
   "id": "d073a39f",
   "metadata": {},
   "outputs": [],
   "source": []
  },
  {
   "cell_type": "code",
   "execution_count": null,
   "id": "9be5ecdf",
   "metadata": {},
   "outputs": [],
   "source": [
    "ARTIFACTS folder is used to store all the csv and ipynb pickle files in it.\n",
    "\n",
    "APPLICATION FOLDER stores functions and login .py files or any other unneccesary files.\n",
    "\n",
    "\"template\" folder is used to create front end files and flask files.\n",
    "\n",
    "'static' folder is used to create style.css files and image folders.\n",
    "\n",
    "app.py, config.py and requirement.txt files are required in main folder file.\n"
   ]
  }
 ],
 "metadata": {
  "kernelspec": {
   "display_name": "Python 3 (ipykernel)",
   "language": "python",
   "name": "python3"
  },
  "language_info": {
   "codemirror_mode": {
    "name": "ipython",
    "version": 3
   },
   "file_extension": ".py",
   "mimetype": "text/x-python",
   "name": "python",
   "nbconvert_exporter": "python",
   "pygments_lexer": "ipython3",
   "version": "3.7.13"
  }
 },
 "nbformat": 4,
 "nbformat_minor": 5
}
